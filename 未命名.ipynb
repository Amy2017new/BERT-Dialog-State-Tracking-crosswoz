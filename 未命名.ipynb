{
 "cells": [
  {
   "cell_type": "code",
   "execution_count": 1,
   "metadata": {},
   "outputs": [],
   "source": [
    "from utils import create_dir_if_not_exists, read_json, get_n_params\n",
    "from dataset import Dataset, Ontology"
   ]
  },
  {
   "cell_type": "code",
   "execution_count": 4,
   "metadata": {},
   "outputs": [],
   "source": [
    "def load_dataset():\n",
    "    dataset = {}\n",
    "    dataset['train'] = Dataset.from_dict(read_json('data/crosswoz/readabe_train_data.json'))\n",
    "    dataset['dev'] = Dataset.from_dict(read_json('data/crosswoz/readabe_val_data.json'))\n",
    "    dataset['test'] = Dataset.from_dict(read_json('data/crosswoz/readabe_test_data.json'))\n",
    "    ontology = Ontology('data/crosswoz/ontology')\n",
    "\n",
    "    return dataset, ontology"
   ]
  },
  {
   "cell_type": "code",
   "execution_count": 6,
   "metadata": {},
   "outputs": [],
   "source": [
    "data_dir='data'\n",
    "dataset, ontology = load_dataset()"
   ]
  },
  {
   "cell_type": "code",
   "execution_count": null,
   "metadata": {},
   "outputs": [],
   "source": []
  },
  {
   "cell_type": "code",
   "execution_count": null,
   "metadata": {},
   "outputs": [],
   "source": []
  },
  {
   "cell_type": "code",
   "execution_count": null,
   "metadata": {},
   "outputs": [],
   "source": [
    "ontology_path = 'data/crosswoz/ontology'\n",
    "ontology = Ontology(ontology_path)\n"
   ]
  },
  {
   "cell_type": "code",
   "execution_count": null,
   "metadata": {},
   "outputs": [],
   "source": []
  },
  {
   "cell_type": "code",
   "execution_count": null,
   "metadata": {},
   "outputs": [],
   "source": [
    "\n",
    "import os\n",
    "path = 'data/crosswoz/ontology'\n",
    "files= os.listdir(path)\n",
    "\n",
    "slots = []\n",
    "values_dict = {}\n",
    "for file in files:\n",
    "    values = []\n",
    "    for slot in read_json(path+\"/\"+file):\n",
    "        value = slot[0]\n",
    "        key = slot[1]['领域']\n",
    "        values.append(value)\n",
    "    values_dict[key] = values\n",
    "    slots.append(key)"
   ]
  },
  {
   "cell_type": "code",
   "execution_count": null,
   "metadata": {},
   "outputs": [],
   "source": [
    "slots"
   ]
  },
  {
   "cell_type": "code",
   "execution_count": null,
   "metadata": {},
   "outputs": [],
   "source": []
  },
  {
   "cell_type": "code",
   "execution_count": null,
   "metadata": {},
   "outputs": [],
   "source": [
    "ontology.to_dict()"
   ]
  },
  {
   "cell_type": "code",
   "execution_count": null,
   "metadata": {},
   "outputs": [],
   "source": [
    "values_dict = {}\n",
    "values = []\n",
    "for slot in read_json(ontology_path):\n",
    "    value = slot[0]\n",
    "    key = slot[1]['领域']\n",
    "    values.append(value)\n",
    "values_dict[key] = values\n",
    "values_dict"
   ]
  },
  {
   "cell_type": "code",
   "execution_count": null,
   "metadata": {},
   "outputs": [],
   "source": [
    "base_path = 'data/crosswoz/readabe_test_data.json'\n",
    "dataset = {}\n",
    "dataset['dev'] = Dataset.from_dict(read_json(base_path))"
   ]
  },
  {
   "cell_type": "code",
   "execution_count": null,
   "metadata": {},
   "outputs": [],
   "source": [
    "type(dataset['dev'])"
   ]
  },
  {
   "cell_type": "code",
   "execution_count": null,
   "metadata": {},
   "outputs": [],
   "source": [
    "for i in dataset['dev'].iter_turns():\n",
    "    print(i.to_dict())"
   ]
  },
  {
   "cell_type": "code",
   "execution_count": null,
   "metadata": {},
   "outputs": [],
   "source": [
    "len(dataset['dev'])"
   ]
  },
  {
   "cell_type": "code",
   "execution_count": null,
   "metadata": {},
   "outputs": [],
   "source": [
    "def load_dataset(base_path):\n",
    "    dataset = {}\n",
    "    # dataset['train'] = Dataset.from_dict(read_json(base_path / 'train.json'))\n",
    "    dataset['dev'] = Dataset.from_dict(read_json(base_path / 'dev.json'))\n",
    "    dataset['test'] = Dataset.from_dict(read_json(base_path / 'test.json'))\n",
    "    ontology = Ontology.from_dict(read_json(base_path / 'ontology.json'))\n",
    "\n",
    "    return dataset, ontology"
   ]
  }
 ],
 "metadata": {
  "kernelspec": {
   "display_name": "Python 3",
   "language": "python",
   "name": "python3"
  },
  "language_info": {
   "codemirror_mode": {
    "name": "ipython",
    "version": 3
   },
   "file_extension": ".py",
   "mimetype": "text/x-python",
   "name": "python",
   "nbconvert_exporter": "python",
   "pygments_lexer": "ipython3",
   "version": "3.8.2"
  }
 },
 "nbformat": 4,
 "nbformat_minor": 4
}
